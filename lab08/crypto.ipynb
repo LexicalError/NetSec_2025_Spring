{
 "cells": [
  {
   "cell_type": "code",
   "execution_count": 1,
   "metadata": {},
   "outputs": [
    {
     "data": {
      "text/plain": [
       "97"
      ]
     },
     "execution_count": 1,
     "metadata": {},
     "output_type": "execute_result"
    }
   ],
   "source": [
    "ord('a')"
   ]
  },
  {
   "cell_type": "code",
   "execution_count": 2,
   "metadata": {},
   "outputs": [
    {
     "data": {
      "text/plain": [
       "'a'"
      ]
     },
     "execution_count": 2,
     "metadata": {},
     "output_type": "execute_result"
    }
   ],
   "source": [
    "chr(97)"
   ]
  },
  {
   "cell_type": "code",
   "execution_count": null,
   "metadata": {},
   "outputs": [
    {
     "name": "stdout",
     "output_type": "stream",
     "text": [
      "19\n",
      "19\n",
      "19\n"
     ]
    }
   ],
   "source": [
    "import sympy\n",
    "print(sympy.invert(11,26))\n",
    "\n",
    "from Crypto.Util.number import inverse\n",
    "print(inverse(11,26))\n",
    "\n",
    "import gmpy2\n",
    "print(gmpy2.invert(11,26))"
   ]
  },
  {
   "cell_type": "code",
   "execution_count": 5,
   "metadata": {},
   "outputs": [
    {
     "name": "stdout",
     "output_type": "stream",
     "text": [
      "Encrypted: Khoor Zruog!\n",
      "Decrypted: Hello World!\n"
     ]
    }
   ],
   "source": [
    "# carser cipher\n",
    "\n",
    "def caesar_cipher(text, shift):\n",
    "    result = \"\"\n",
    "    for char in text:\n",
    "        # 小寫字母\n",
    "        if char.islower():\n",
    "            result += chr((ord(char) - 97 + shift) % 26 + 97)\n",
    "        # 大寫字母\n",
    "        elif char.isupper():\n",
    "            result += chr( (ord(char) - 65 + shift) % 26 + 65)\n",
    "        # 非字母字符保持不变\n",
    "        else:\n",
    "            result += char\n",
    "    return result\n",
    "\n",
    "def caesar_decipher(text, shift):\n",
    "    return caesar_cipher(text, -shift)\n",
    "\n",
    "# usecase\n",
    "encrypted_text = caesar_cipher(\"Hello World!\", 3)\n",
    "print(\"Encrypted:\", encrypted_text)\n",
    "\n",
    "decrypted_text = caesar_decipher(encrypted_text, 3)\n",
    "print(\"Decrypted:\", decrypted_text)"
   ]
  },
  {
   "cell_type": "code",
   "execution_count": 6,
   "metadata": {},
   "outputs": [
    {
     "name": "stdout",
     "output_type": "stream",
     "text": [
      "flag_is_every_haxor_love_math\n"
     ]
    }
   ],
   "source": [
    "# affine cipher\n",
    "\n",
    "import sympy\n",
    "original = 'abcdefghijklmnopqrstuvwxyz_'\n",
    "encrypted = 'ifpmluglesecdlqp_rclfrseljpkq'\n",
    "\n",
    "def main():\n",
    "    result = ''\n",
    "    a = sympy.invert(4,27)\n",
    "    for e in encrypted:\n",
    "        result += original[((original.index(e)-15) * a) % 27]\n",
    "    print(result)\n",
    "\n",
    "if __name__ == '__main__':\n",
    "    main()"
   ]
  },
  {
   "cell_type": "code",
   "execution_count": 7,
   "metadata": {},
   "outputs": [
    {
     "name": "stdout",
     "output_type": "stream",
     "text": [
      "Number of fences: 21\n",
      "Plaintext: A-fence-is-a-structure-that-encloses-an-area,-SharifCTF{QmFzZTY0IGlzIGEgZ2VuZXJpYyB0ZXJt},-typically-outdoors.\n"
     ]
    }
   ],
   "source": [
    "# Rail Fence cipher\n",
    "\n",
    "FENCES = 1\n",
    "CIPHERTEXT = \"AaY--rpyfneJBeaaX0n-,ZZcs-uXeeSVJ-sh2tioaZ}slrg,-ciE-anfGt.-eCIyss-TzprttFliora{GcouhQIadctm0ltt-FYluuezTyorZ-\"\n",
    "\n",
    "n = len(CIPHERTEXT)\n",
    "\n",
    "while True:\n",
    "    FENCES += 1\n",
    "    Mat = [[] for _ in range(FENCES)]\n",
    "    Msg = [''] * n\n",
    "    j = 0\n",
    "    d = +1\n",
    "    \n",
    "    for i in range(n):\n",
    "        Mat[j].append(i)\n",
    "        j += d\n",
    "        if j == 0 or j == FENCES - 1:\n",
    "            d = -d\n",
    "\n",
    "    l = 0\n",
    "    for row in Mat:\n",
    "        for i in row:\n",
    "            Msg[i] = CIPHERTEXT[l]\n",
    "            l += 1\n",
    "\n",
    "    m = \"\".join(Msg)\n",
    "    if 'SharifCTF{' in m:\n",
    "        break\n",
    "\n",
    "print(\"Number of fences:\", FENCES)\n",
    "print(\"Plaintext:\", m)"
   ]
  },
  {
   "cell_type": "code",
   "execution_count": 8,
   "metadata": {},
   "outputs": [
    {
     "name": "stdout",
     "output_type": "stream",
     "text": [
      "known_key = VIGENER\n",
      "key = VIGENERECODE\n",
      "plaintext = SECCON{ABABABCDEDEFGHIJJKLMNOPQRSTTUVWXYYZ}\n"
     ]
    }
   ],
   "source": [
    "# Vigenère cipher\n",
    "\n",
    "from re import match\n",
    "from hashlib import md5 as md5_\n",
    "from itertools import product\n",
    "\n",
    "# MD5 hash function\n",
    "md5 = lambda x: md5_(x.encode()).hexdigest()\n",
    "\n",
    "TABLE = \"ABCDEFGHIJKLMNOPQRSTUVWXYZ{}\"\n",
    "ENCRYPT, DECRYPT = 1, -1\n",
    "\n",
    "def vigenere(string, key, mode=ENCRYPT, table=TABLE):\n",
    "    L = len(key)\n",
    "    key = [table.index(i) for i in key]\n",
    "    string = [table.index(i) for i in string]\n",
    "    cipher = [(v + mode * key[i % L]) % len(table) for i, v in enumerate(string)]\n",
    "    return ''.join(table[i] for i in cipher)\n",
    "\n",
    "# 已知密文與MD5雜湊值\n",
    "key = \".......?????\"  # 表示前面已知、後面未知的密鑰\n",
    "plaintext = \"SECCON{...................................}\"\n",
    "ciphertext = \"LMIG}RPEDOEEWKJIQIWKJWMNDTSR}TFVUFWYOCBAJBQ\"\n",
    "md5_hash = \"f528a6ab914c1ecf856a1d93103948fe\"\n",
    "\n",
    "# 已知前面部分的 key\n",
    "known_key = ''\n",
    "for idx, char in enumerate('SECCON{'):\n",
    "    for k in TABLE:\n",
    "        if vigenere(char, k) == ciphertext[idx]:\n",
    "            known_key += k\n",
    "            break\n",
    "\n",
    "print(f'known_key = {known_key}')\n",
    "\n",
    "# 暴力破解剩下的 key\n",
    "for poss in product(TABLE, repeat=len(key) - len(known_key)):\n",
    "    try_key = known_key + ''.join(poss)\n",
    "    decrypted = vigenere(ciphertext, try_key, DECRYPT)\n",
    "    \n",
    "    # 驗證解密結果是否符合格式與MD5雜湊\n",
    "    if match(r'SECCON\\{[A-Z]{35}\\}', decrypted) and md5(decrypted) == md5_hash:\n",
    "        print(f'key = {try_key}')\n",
    "        print(f'plaintext = {decrypted}')\n",
    "        break\n"
   ]
  },
  {
   "cell_type": "code",
   "execution_count": 10,
   "metadata": {},
   "outputs": [
    {
     "name": "stdout",
     "output_type": "stream",
     "text": [
      "Plaintext: hello123\n",
      "Plaintext Binary: 0110100001100101011011000110110001101111001100010011001000110011\n",
      "Key:       0010110010000000101001001111100000101111010110100111001110010001\n",
      "Cipher Bin:0100010011100101110010001001010001000000011010110100000110100010\n",
      "Decrypted Text: hello123\n"
     ]
    }
   ],
   "source": [
    "# one-time pad\n",
    "\n",
    "import os\n",
    "\n",
    "def str_to_bin(s):\n",
    "    return ''.join(format(ord(c), '08b') for c in s)\n",
    "\n",
    "def bin_to_str(b):\n",
    "    chars = [chr(int(b[i:i+8], 2)) for i in range(0, len(b), 8)]\n",
    "    return ''.join(chars)\n",
    "\n",
    "def xor_binary(b1, b2):\n",
    "    return ''.join('1' if x != y else '0' for x, y in zip(b1, b2))\n",
    "\n",
    "def generate_key(length):\n",
    "    return ''.join(format(x, '08b') for x in os.urandom(length))\n",
    "\n",
    "# 主流程\n",
    "plaintext = 'hello123'\n",
    "plaintext_bin = str_to_bin(plaintext)\n",
    "key = generate_key(len(plaintext))\n",
    "cipher_bin = xor_binary(plaintext_bin, key)\n",
    "\n",
    "print(f'Plaintext: {plaintext}')\n",
    "print(f'Plaintext Binary: {plaintext_bin}')\n",
    "print(f'Key:       {key}')\n",
    "print(f'Cipher Bin:{cipher_bin}')\n",
    "\n",
    "# 解密\n",
    "decrypted_bin = xor_binary(cipher_bin, key)\n",
    "decrypted_text = bin_to_str(decrypted_bin)\n",
    "print(f'Decrypted Text: {decrypted_text}')"
   ]
  },
  {
   "cell_type": "code",
   "execution_count": 11,
   "metadata": {},
   "outputs": [
    {
     "name": "stdout",
     "output_type": "stream",
     "text": [
      "flag{do_not_let_machines_win_983e8a2d}__________\n"
     ]
    }
   ],
   "source": [
    "# aes\n",
    "\n",
    "import base64\n",
    "from Crypto.Cipher import AES\n",
    "key = base64.b64decode(\"6v3T yEgjUcQRnWuIhjdTBA==\")\n",
    "ciphertext = base64.b64decode(\"rW4q3swEuIOEy8RTIp/DCMdNPtdYopSRXKSLYnX9NQe8z+LMsZ6Mx/x8pwGwofdZ\")\n",
    "crypter = AES.new(key, AES.MODE_ECB)\n",
    "plaintext = crypter .decrypt(ciphertext).decode(\"utf-8\")\n",
    "print(plaintext)"
   ]
  },
  {
   "cell_type": "code",
   "execution_count": null,
   "metadata": {},
   "outputs": [],
   "source": []
  }
 ],
 "metadata": {
  "kernelspec": {
   "display_name": "Python 3",
   "language": "python",
   "name": "python3"
  },
  "language_info": {
   "codemirror_mode": {
    "name": "ipython",
    "version": 3
   },
   "file_extension": ".py",
   "mimetype": "text/x-python",
   "name": "python",
   "nbconvert_exporter": "python",
   "pygments_lexer": "ipython3",
   "version": "3.13.3"
  }
 },
 "nbformat": 4,
 "nbformat_minor": 2
}
